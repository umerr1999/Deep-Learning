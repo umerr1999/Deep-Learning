{
 "cells": [
  {
   "cell_type": "code",
   "execution_count": 27,
   "metadata": {},
   "outputs": [],
   "source": [
    "import numpy as np\n",
    "import matplotlib.pyplot as plt\n",
    "import h5py\n",
    "from lr_utils import load_dataset"
   ]
  },
  {
   "cell_type": "code",
   "execution_count": 28,
   "metadata": {},
   "outputs": [],
   "source": [
    "# Loading the data (cat/non-cat)\n",
    "train_set_x_orig, train_set_y, test_set_x_orig, test_set_y,classes = load_dataset()"
   ]
  },
  {
   "cell_type": "code",
   "execution_count": 31,
   "metadata": {},
   "outputs": [
    {
     "name": "stdout",
     "output_type": "stream",
     "text": [
      "[1]\n"
     ]
    },
    {
     "data": {
      "image/png": "[encoded data removed]",
      "text/plain": [
       "<Figure size 432x288 with 1 Axes>"
      ]
     },
     "metadata": {
      "needs_background": "light"
     },
     "output_type": "display_data"
    }
   ],
   "source": [
    "index = 2\n",
    "plt.imshow(train_set_x_orig[index])\n",
    "print(train_set_y[:,index])"
   ]
  },
  {
   "cell_type": "code",
   "execution_count": 5,
   "metadata": {},
   "outputs": [
    {
     "data": {
      "text/plain": [
       "array([[0, 0, 1, 0, 0, 0, 0, 1, 0, 0, 0, 1, 0, 1, 1, 0, 0, 0, 0, 1, 0, 0,\n",
       "        0, 0, 1, 1, 0, 1, 0, 1, 0, 0, 0, 0, 0, 0, 0, 0, 1, 0, 0, 1, 1, 0,\n",
       "        0, 0, 0, 1, 0, 0, 1, 0, 0, 0, 1, 0, 1, 1, 0, 1, 1, 1, 0, 0, 0, 0,\n",
       "        0, 0, 1, 0, 0, 1, 0, 0, 0, 0, 0, 0, 0, 0, 0, 0, 0, 1, 1, 0, 0, 0,\n",
       "        1, 0, 0, 0, 1, 1, 1, 0, 0, 1, 0, 0, 0, 0, 1, 0, 1, 0, 1, 1, 1, 1,\n",
       "        1, 1, 0, 0, 0, 0, 0, 1, 0, 0, 0, 1, 0, 0, 1, 0, 1, 0, 1, 1, 0, 0,\n",
       "        0, 1, 1, 1, 1, 1, 0, 0, 0, 0, 1, 0, 1, 1, 1, 0, 1, 1, 0, 0, 0, 1,\n",
       "        0, 0, 1, 0, 0, 0, 0, 0, 1, 0, 1, 0, 1, 0, 0, 1, 1, 1, 0, 0, 1, 1,\n",
       "        0, 1, 0, 1, 0, 0, 0, 0, 0, 1, 0, 0, 1, 0, 0, 0, 1, 0, 0, 0, 0, 1,\n",
       "        0, 0, 1, 0, 0, 0, 0, 0, 0, 0, 0]], dtype=int64)"
      ]
     },
     "execution_count": 5,
     "metadata": {},
     "output_type": "execute_result"
    }
   ],
   "source": [
    "train_set_y"
   ]
  },
  {
   "cell_type": "code",
   "execution_count": 6,
   "metadata": {
    "scrolled": true
   },
   "outputs": [
    {
     "name": "stdout",
     "output_type": "stream",
     "text": [
      "Number of training examples: m_train = 209\n",
      "Number of testing examples: m_test = 50\n",
      "Height/Width of each image: num_px = 64\n",
      "Each image is of size: (64, 64, 3)\n",
      "train_set_x shape: (209, 64, 64, 3)\n",
      "train_set_y shape: (1, 209)\n",
      "test_set_x shape: (50, 64, 64, 3)\n",
      "test_set_y shape: (1, 50)\n"
     ]
    }
   ],
   "source": [
    "### START CODE HERE ### (≈ 3 lines of code)\n",
    "m_train = train_set_y.shape[1]\n",
    "m_test = test_set_y.shape[1]\n",
    "num_px = train_set_x_orig.shape[1]\n",
    "### END CODE HERE ###\n",
    "\n",
    "print (\"Number of training examples: m_train = \" + str(m_train))\n",
    "print (\"Number of testing examples: m_test = \" + str(m_test))\n",
    "print (\"Height/Width of each image: num_px = \" + str(num_px))\n",
    "print (\"Each image is of size: (\" + str(num_px) + \", \" + str(num_px) + \", 3)\")\n",
    "print (\"train_set_x shape: \" + str(train_set_x_orig.shape))\n",
    "print (\"train_set_y shape: \" + str(train_set_y.shape))\n",
    "print (\"test_set_x shape: \" + str(test_set_x_orig.shape))\n",
    "print (\"test_set_y shape: \" + str(test_set_y.shape))"
   ]
  },
  {
   "cell_type": "code",
   "execution_count": 7,
   "metadata": {},
   "outputs": [],
   "source": [
    "train_set_x_orig = train_set_x_orig.reshape((209, 64*64*3))\n",
    "train_set_x_orig = train_set_x_orig.astype('float32') / 255\n",
    "test_set_x_orig = test_set_x_orig.reshape((50, 64*64*3))\n",
    "test_set_x_orig = test_set_x_orig.astype('float32') / 255\n",
    "\n",
    "train_set_y=train_set_y.reshape(209,)\n",
    "train_set_y=train_set_y.astype('float32')\n",
    "test_set_y=test_set_y.reshape(50,)\n",
    "test_set_y=test_set_y.astype('float32')\n"
   ]
  },
  {
   "cell_type": "code",
   "execution_count": 8,
   "metadata": {},
   "outputs": [
    {
     "name": "stdout",
     "output_type": "stream",
     "text": [
      "(209, 12288)\n",
      "(209,)\n"
     ]
    }
   ],
   "source": [
    "print(train_set_x_orig.shape)\n",
    "print(train_set_y.shape)"
   ]
  },
  {
   "cell_type": "code",
   "execution_count": 9,
   "metadata": {},
   "outputs": [],
   "source": [
    "from tensorflow.keras import models\n",
    "from tensorflow.keras import layers\n",
    "network = models.Sequential()\n",
    "network.add(layers.Dense(16, activation='relu', input_shape=(64*64*3,)))\n",
    "#network.add(layers.Dense(64,activation='relu'))\n",
    "network.add(layers.Dense(1, activation='sigmoid'))"
   ]
  },
  {
   "cell_type": "code",
   "execution_count": 10,
   "metadata": {},
   "outputs": [],
   "source": [
    "network.compile(optimizer='sgd',\n",
    "                loss='binary_crossentropy',\n",
    "                metrics=['accuracy'])"
   ]
  },
  {
   "cell_type": "code",
   "execution_count": 11,
   "metadata": {
    "scrolled": true
   },
   "outputs": [
    {
     "name": "stdout",
     "output_type": "stream",
     "text": [
      "Train on 209 samples\n",
      "Epoch 1/30\n",
      "209/209 [==============================] - 1s 7ms/sample - loss: 0.7320 - accuracy: 0.6459\n",
      "Epoch 2/30\n",
      "209/209 [==============================] - 0s 1ms/sample - loss: 0.6483 - accuracy: 0.6555\n",
      "Epoch 3/30\n",
      "209/209 [==============================] - 0s 922us/sample - loss: 0.6473 - accuracy: 0.6555\n",
      "Epoch 4/30\n",
      "209/209 [==============================] - 0s 1ms/sample - loss: 0.6344 - accuracy: 0.6555\n",
      "Epoch 5/30\n",
      "209/209 [==============================] - 0s 976us/sample - loss: 0.6384 - accuracy: 0.6603\n",
      "Epoch 6/30\n",
      "209/209 [==============================] - 0s 861us/sample - loss: 0.6181 - accuracy: 0.6507\n",
      "Epoch 7/30\n",
      "209/209 [==============================] - 0s 2ms/sample - loss: 0.6181 - accuracy: 0.6555\n",
      "Epoch 8/30\n",
      "209/209 [==============================] - 0s 1ms/sample - loss: 0.5966 - accuracy: 0.6842\n",
      "Epoch 9/30\n",
      "209/209 [==============================] - 0s 1ms/sample - loss: 0.5891 - accuracy: 0.6459\n",
      "Epoch 10/30\n",
      "209/209 [==============================] - 0s 1ms/sample - loss: 0.5928 - accuracy: 0.6603\n",
      "Epoch 11/30\n",
      "209/209 [==============================] - 0s 1ms/sample - loss: 0.5892 - accuracy: 0.68420s - loss: 0.6174 - accuracy: 0.\n",
      "Epoch 12/30\n",
      "209/209 [==============================] - 0s 1ms/sample - loss: 0.5858 - accuracy: 0.6938\n",
      "Epoch 13/30\n",
      "209/209 [==============================] - 0s 1ms/sample - loss: 0.5619 - accuracy: 0.6603\n",
      "Epoch 14/30\n",
      "209/209 [==============================] - 0s 1ms/sample - loss: 0.5582 - accuracy: 0.6890\n",
      "Epoch 15/30\n",
      "209/209 [==============================] - 0s 1ms/sample - loss: 0.5729 - accuracy: 0.6890\n",
      "Epoch 16/30\n",
      "209/209 [==============================] - 0s 1ms/sample - loss: 0.5623 - accuracy: 0.6842\n",
      "Epoch 17/30\n",
      "209/209 [==============================] - 0s 1ms/sample - loss: 0.5234 - accuracy: 0.7033\n",
      "Epoch 18/30\n",
      "209/209 [==============================] - 0s 1ms/sample - loss: 0.5268 - accuracy: 0.7129\n",
      "Epoch 19/30\n",
      "209/209 [==============================] - 0s 1ms/sample - loss: 0.4969 - accuracy: 0.7656\n",
      "Epoch 20/30\n",
      "209/209 [==============================] - 0s 1ms/sample - loss: 0.4841 - accuracy: 0.7368\n",
      "Epoch 21/30\n",
      "209/209 [==============================] - 0s 1ms/sample - loss: 0.4926 - accuracy: 0.7512\n",
      "Epoch 22/30\n",
      "209/209 [==============================] - 0s 1ms/sample - loss: 0.5088 - accuracy: 0.7225\n",
      "Epoch 23/30\n",
      "209/209 [==============================] - 0s 1ms/sample - loss: 0.4710 - accuracy: 0.7656\n",
      "Epoch 24/30\n",
      "209/209 [==============================] - 0s 1ms/sample - loss: 0.5774 - accuracy: 0.7129\n",
      "Epoch 25/30\n",
      "209/209 [==============================] - 0s 1ms/sample - loss: 0.4632 - accuracy: 0.7799\n",
      "Epoch 26/30\n",
      "209/209 [==============================] - 0s 1ms/sample - loss: 0.4468 - accuracy: 0.7799\n",
      "Epoch 27/30\n",
      "209/209 [==============================] - 0s 1ms/sample - loss: 0.4069 - accuracy: 0.7943\n",
      "Epoch 28/30\n",
      "209/209 [==============================] - 0s 1ms/sample - loss: 0.4013 - accuracy: 0.8373\n",
      "Epoch 29/30\n",
      "209/209 [==============================] - 0s 1ms/sample - loss: 0.3842 - accuracy: 0.8469\n",
      "Epoch 30/30\n",
      "209/209 [==============================] - 0s 2ms/sample - loss: 0.3856 - accuracy: 0.8182\n"
     ]
    },
    {
     "data": {
      "text/plain": [
       "<tensorflow.python.keras.callbacks.History at 0x571cde3e48>"
      ]
     },
     "execution_count": 11,
     "metadata": {},
     "output_type": "execute_result"
    }
   ],
   "source": [
    "network.fit(train_set_x_orig, train_set_y, epochs=30 , batch_size=8)"
   ]
  },
  {
   "cell_type": "code",
   "execution_count": 12,
   "metadata": {},
   "outputs": [
    {
     "name": "stdout",
     "output_type": "stream",
     "text": [
      "50/50 [==============================] - 0s 7ms/sample - loss: 0.5364 - accuracy: 0.7400\n"
     ]
    }
   ],
   "source": [
    "test_loss, test_acc = network.evaluate(test_set_x_orig, test_set_y)"
   ]
  },
  {
   "cell_type": "code",
   "execution_count": 13,
   "metadata": {},
   "outputs": [
    {
     "data": {
      "text/plain": [
       "0.74"
      ]
     },
     "execution_count": 13,
     "metadata": {},
     "output_type": "execute_result"
    }
   ],
   "source": [
    "test_acc"
   ]
  },
  {
   "cell_type": "code",
   "execution_count": 21,
   "metadata": {
    "scrolled": true
   },
   "outputs": [],
   "source": [
    "prediction=network.predict(test_set_x_orig)"
   ]
  },
  {
   "cell_type": "code",
   "execution_count": 23,
   "metadata": {},
   "outputs": [
    {
     "name": "stdout",
     "output_type": "stream",
     "text": [
      "Image # 0 is a cat\n",
      "Image # 1 is a cat\n",
      "Image # 2 is a cat\n",
      "Image # 3 is a cat\n",
      "Image # 4 is a cat\n",
      "Image # 5 is a cat\n",
      "Image # 6 is a cat\n",
      "Image # 7 is a cat\n",
      "Image # 8 is a cat\n",
      "Image # 9 is a cat\n",
      "Image # 10 is a cat\n",
      "Image # 11 is a cat\n",
      "Image # 12 is a cat\n",
      "Image # 13 is a cat\n",
      "Image # 14 is not a cat\n",
      "Image # 15 is a cat\n",
      "Image # 16 is a cat\n",
      "Image # 17 is a cat\n",
      "Image # 18 is a cat\n",
      "Image # 19 is a cat\n",
      "Image # 20 is a cat\n",
      "Image # 21 is not a cat\n",
      "Image # 22 is not a cat\n",
      "Image # 23 is a cat\n",
      "Image # 24 is a cat\n",
      "Image # 25 is a cat\n",
      "Image # 26 is a cat\n",
      "Image # 27 is not a cat\n",
      "Image # 28 is a cat\n",
      "Image # 29 is a cat\n",
      "Image # 30 is a cat\n",
      "Image # 31 is a cat\n",
      "Image # 32 is a cat\n",
      "Image # 33 is a cat\n",
      "Image # 34 is a cat\n",
      "Image # 35 is a cat\n",
      "Image # 36 is a cat\n",
      "Image # 37 is a cat\n",
      "Image # 38 is a cat\n",
      "Image # 39 is a cat\n",
      "Image # 40 is a cat\n",
      "Image # 41 is a cat\n",
      "Image # 42 is a cat\n",
      "Image # 43 is a cat\n",
      "Image # 44 is a cat\n",
      "Image # 45 is a cat\n",
      "Image # 46 is a cat\n",
      "Image # 47 is a cat\n",
      "Image # 48 is a cat\n",
      "Image # 49 is a cat\n"
     ]
    }
   ],
   "source": [
    "counter=0\n",
    "for pred in prediction:\n",
    "    if pred >=0.56:\n",
    "        print('Image # {} is a cat'.format(counter))\n",
    "    else:\n",
    "        print('Image # {} is not a cat'.format(counter))\n",
    "    counter+=1   "
   ]
  },
  {
   "cell_type": "code",
   "execution_count": 24,
   "metadata": {},
   "outputs": [
    {
     "name": "stdout",
     "output_type": "stream",
     "text": [
      "Image # 0 is a cat\n",
      "Image # 1 is a cat\n",
      "Image # 2 is a cat\n",
      "Image # 3 is a cat\n",
      "Image # 4 is a cat\n",
      "Image # 5 is not a cat\n",
      "Image # 6 is a cat\n",
      "Image # 7 is a cat\n",
      "Image # 8 is a cat\n",
      "Image # 9 is a cat\n",
      "Image # 10 is a cat\n",
      "Image # 11 is a cat\n",
      "Image # 12 is a cat\n",
      "Image # 13 is not a cat\n",
      "Image # 14 is not a cat\n",
      "Image # 15 is a cat\n",
      "Image # 16 is not a cat\n",
      "Image # 17 is a cat\n",
      "Image # 18 is a cat\n",
      "Image # 19 is a cat\n",
      "Image # 20 is a cat\n",
      "Image # 21 is not a cat\n",
      "Image # 22 is not a cat\n",
      "Image # 23 is a cat\n",
      "Image # 24 is a cat\n",
      "Image # 25 is a cat\n",
      "Image # 26 is a cat\n",
      "Image # 27 is not a cat\n",
      "Image # 28 is a cat\n",
      "Image # 29 is not a cat\n",
      "Image # 30 is a cat\n",
      "Image # 31 is a cat\n",
      "Image # 32 is a cat\n",
      "Image # 33 is a cat\n",
      "Image # 34 is not a cat\n",
      "Image # 35 is not a cat\n",
      "Image # 36 is not a cat\n",
      "Image # 37 is a cat\n",
      "Image # 38 is not a cat\n",
      "Image # 39 is not a cat\n",
      "Image # 40 is a cat\n",
      "Image # 41 is a cat\n",
      "Image # 42 is a cat\n",
      "Image # 43 is not a cat\n",
      "Image # 44 is not a cat\n",
      "Image # 45 is not a cat\n",
      "Image # 46 is a cat\n",
      "Image # 47 is a cat\n",
      "Image # 48 is a cat\n",
      "Image # 49 is not a cat\n"
     ]
    }
   ],
   "source": [
    "counter=0\n",
    "for test in test_set_y:\n",
    "    if test >=0.56:\n",
    "        print('Image # {} is a cat'.format(counter))\n",
    "    else:\n",
    "        print('Image # {} is not a cat'.format(counter))\n",
    "    counter+=1   "
   ]
  },
  {
   "cell_type": "code",
   "execution_count": null,
   "metadata": {},
   "outputs": [],
   "source": []
  }
 ],
 "metadata": {
  "kernelspec": {
   "display_name": "Python 3",
   "language": "python",
   "name": "python3"
  },
  "language_info": {
   "codemirror_mode": {
    "name": "ipython",
    "version": 3
   },
   "file_extension": ".py",
   "mimetype": "text/x-python",
   "name": "python",
   "nbconvert_exporter": "python",
   "pygments_lexer": "ipython3",
   "version": "3.7.4"
  }
 },
 "nbformat": 4,
 "nbformat_minor": 2
}
